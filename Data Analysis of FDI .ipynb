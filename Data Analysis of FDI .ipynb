{
 "cells": [
  {
   "cell_type": "markdown",
   "metadata": {},
   "source": [
    "## Import Statements"
   ]
  },
  {
   "cell_type": "code",
   "execution_count": 1,
   "metadata": {},
   "outputs": [],
   "source": [
    "import requests\n",
    "import pandas as pd\n",
    "import matplotlib.pyplot as plt\n",
    "import seaborn as sns"
   ]
  },
  {
   "cell_type": "markdown",
   "metadata": {},
   "source": [
    "## Extracting data using API endpoints"
   ]
  },
  {
   "cell_type": "markdown",
   "metadata": {},
   "source": [
    "### Data.gov.in api allows only 10 records at a time\n",
    "   #### Hence we are using a for loop to add all the data into a list and then into DataFrame df"
   ]
  },
  {
   "cell_type": "code",
   "execution_count": 2,
   "metadata": {},
   "outputs": [],
   "source": [
    "data_list=[]\n",
    "for i in range(0,100,10):\n",
    "    params= {'api-key':'579b464db66ec23bdd000001cdd3946e44ce4aad7209ff7b23ac571b', 'format':'json', 'limit': 100, 'offset': i}\n",
    "    response = requests.get('https://api.data.gov.in/resource/e1c37ff8-df5a-43b8-bca2-f77ba6d2ac58',params=params)\n",
    "    data = response.json()\n",
    "    data_list.extend(data['records'])"
   ]
  },
  {
   "cell_type": "code",
   "execution_count": 20,
   "metadata": {},
   "outputs": [],
   "source": [
    "df =pd.DataFrame( data_list)"
   ]
  },
  {
   "cell_type": "code",
   "execution_count": 21,
   "metadata": {},
   "outputs": [
    {
     "data": {
      "text/html": [
       "<div>\n",
       "<style scoped>\n",
       "    .dataframe tbody tr th:only-of-type {\n",
       "        vertical-align: middle;\n",
       "    }\n",
       "\n",
       "    .dataframe tbody tr th {\n",
       "        vertical-align: top;\n",
       "    }\n",
       "\n",
       "    .dataframe thead th {\n",
       "        text-align: right;\n",
       "    }\n",
       "</style>\n",
       "<table border=\"1\" class=\"dataframe\">\n",
       "  <thead>\n",
       "    <tr style=\"text-align: right;\">\n",
       "      <th></th>\n",
       "      <th>sector_name</th>\n",
       "      <th>amount_in_rs</th>\n",
       "      <th>amount_in_usd</th>\n",
       "      <th>unit</th>\n",
       "      <th>from_date</th>\n",
       "      <th>to_date</th>\n",
       "    </tr>\n",
       "  </thead>\n",
       "  <tbody>\n",
       "    <tr>\n",
       "      <th>0</th>\n",
       "      <td>METALLURGICAL INDUSTRIES</td>\n",
       "      <td>938921.30</td>\n",
       "      <td>16010.22</td>\n",
       "      <td>MILLION</td>\n",
       "      <td>2000-04-01T17:19:35Z</td>\n",
       "      <td>2021-06-30T17:19:35Z</td>\n",
       "    </tr>\n",
       "    <tr>\n",
       "      <th>1</th>\n",
       "      <td>MINING</td>\n",
       "      <td>176263.83</td>\n",
       "      <td>3001.52</td>\n",
       "      <td>MILLION</td>\n",
       "      <td>2000-04-01T17:19:35Z</td>\n",
       "      <td>2021-06-30T17:19:35Z</td>\n",
       "    </tr>\n",
       "    <tr>\n",
       "      <th>2</th>\n",
       "      <td>POWER</td>\n",
       "      <td>855195.81</td>\n",
       "      <td>15368.62</td>\n",
       "      <td>MILLION</td>\n",
       "      <td>2000-04-01T17:19:35Z</td>\n",
       "      <td>2021-06-30T17:19:35Z</td>\n",
       "    </tr>\n",
       "    <tr>\n",
       "      <th>3</th>\n",
       "      <td>NON-CONVENTIONAL ENERGY</td>\n",
       "      <td>649982.68</td>\n",
       "      <td>10279.81</td>\n",
       "      <td>MILLION</td>\n",
       "      <td>2000-04-01T17:19:35Z</td>\n",
       "      <td>2021-06-30T17:19:35Z</td>\n",
       "    </tr>\n",
       "    <tr>\n",
       "      <th>4</th>\n",
       "      <td>COAL PRODUCTION</td>\n",
       "      <td>1191.89</td>\n",
       "      <td>27.73</td>\n",
       "      <td>MILLION</td>\n",
       "      <td>2000-04-01T17:19:35Z</td>\n",
       "      <td>2021-06-30T17:19:35Z</td>\n",
       "    </tr>\n",
       "    <tr>\n",
       "      <th>...</th>\n",
       "      <td>...</td>\n",
       "      <td>...</td>\n",
       "      <td>...</td>\n",
       "      <td>...</td>\n",
       "      <td>...</td>\n",
       "      <td>...</td>\n",
       "    </tr>\n",
       "    <tr>\n",
       "      <th>58</th>\n",
       "      <td>COIR</td>\n",
       "      <td>220.50</td>\n",
       "      <td>4.07</td>\n",
       "      <td>MILLION</td>\n",
       "      <td>2000-04-01T17:19:36Z</td>\n",
       "      <td>2021-06-30T17:19:36Z</td>\n",
       "    </tr>\n",
       "    <tr>\n",
       "      <th>59</th>\n",
       "      <td>CONSTRUCTION (INFRASTRUCTURE) ACTIVITIES</td>\n",
       "      <td>1714999.93</td>\n",
       "      <td>25381.89</td>\n",
       "      <td>MILLION</td>\n",
       "      <td>2000-04-01T17:19:36Z</td>\n",
       "      <td>2021-06-30T17:19:36Z</td>\n",
       "    </tr>\n",
       "    <tr>\n",
       "      <th>60</th>\n",
       "      <td>CONSTRUCTION DEVELOPMENT: Townships, housing, ...</td>\n",
       "      <td>1275189.68</td>\n",
       "      <td>26143.67</td>\n",
       "      <td>MILLION</td>\n",
       "      <td>2000-04-01T17:19:36Z</td>\n",
       "      <td>2021-06-30T17:19:36Z</td>\n",
       "    </tr>\n",
       "    <tr>\n",
       "      <th>61</th>\n",
       "      <td>MISCELLANEOUS INDUSTRIES</td>\n",
       "      <td>681417.33</td>\n",
       "      <td>12682.29</td>\n",
       "      <td>MILLION</td>\n",
       "      <td>2000-04-01T17:19:36Z</td>\n",
       "      <td>2021-06-30T17:19:36Z</td>\n",
       "    </tr>\n",
       "    <tr>\n",
       "      <th>62</th>\n",
       "      <td>CONSULTANCY SERVICES</td>\n",
       "      <td>419161.74</td>\n",
       "      <td>6816.73</td>\n",
       "      <td>MILLION</td>\n",
       "      <td>2000-04-01T17:19:36Z</td>\n",
       "      <td>2021-06-30T17:19:36Z</td>\n",
       "    </tr>\n",
       "  </tbody>\n",
       "</table>\n",
       "<p>63 rows × 6 columns</p>\n",
       "</div>"
      ],
      "text/plain": [
       "                                          sector_name  amount_in_rs  \\\n",
       "0                            METALLURGICAL INDUSTRIES     938921.30   \n",
       "1                                              MINING     176263.83   \n",
       "2                                               POWER     855195.81   \n",
       "3                             NON-CONVENTIONAL ENERGY     649982.68   \n",
       "4                                     COAL PRODUCTION       1191.89   \n",
       "..                                                ...           ...   \n",
       "58                                               COIR        220.50   \n",
       "59           CONSTRUCTION (INFRASTRUCTURE) ACTIVITIES    1714999.93   \n",
       "60  CONSTRUCTION DEVELOPMENT: Townships, housing, ...    1275189.68   \n",
       "61                           MISCELLANEOUS INDUSTRIES     681417.33   \n",
       "62                               CONSULTANCY SERVICES     419161.74   \n",
       "\n",
       "    amount_in_usd     unit             from_date               to_date  \n",
       "0        16010.22  MILLION  2000-04-01T17:19:35Z  2021-06-30T17:19:35Z  \n",
       "1         3001.52  MILLION  2000-04-01T17:19:35Z  2021-06-30T17:19:35Z  \n",
       "2        15368.62  MILLION  2000-04-01T17:19:35Z  2021-06-30T17:19:35Z  \n",
       "3        10279.81  MILLION  2000-04-01T17:19:35Z  2021-06-30T17:19:35Z  \n",
       "4           27.73  MILLION  2000-04-01T17:19:35Z  2021-06-30T17:19:35Z  \n",
       "..            ...      ...                   ...                   ...  \n",
       "58           4.07  MILLION  2000-04-01T17:19:36Z  2021-06-30T17:19:36Z  \n",
       "59       25381.89  MILLION  2000-04-01T17:19:36Z  2021-06-30T17:19:36Z  \n",
       "60       26143.67  MILLION  2000-04-01T17:19:36Z  2021-06-30T17:19:36Z  \n",
       "61       12682.29  MILLION  2000-04-01T17:19:36Z  2021-06-30T17:19:36Z  \n",
       "62        6816.73  MILLION  2000-04-01T17:19:36Z  2021-06-30T17:19:36Z  \n",
       "\n",
       "[63 rows x 6 columns]"
      ]
     },
     "execution_count": 21,
     "metadata": {},
     "output_type": "execute_result"
    }
   ],
   "source": [
    "df"
   ]
  },
  {
   "cell_type": "markdown",
   "metadata": {},
   "source": [
    "### Data cleaning and Exploration"
   ]
  },
  {
   "cell_type": "code",
   "execution_count": null,
   "metadata": {},
   "outputs": [],
   "source": [
    "df['from_date'] = pd.to_datetime(df['from_date']).dt.date\n",
    "df['to_date'] = pd.to_datetime(df['to_date']).dt.date"
   ]
  },
  {
   "cell_type": "code",
   "execution_count": 5,
   "metadata": {
    "scrolled": true
   },
   "outputs": [
    {
     "data": {
      "text/plain": [
       "sector_name      False\n",
       "amount_in_rs     False\n",
       "amount_in_usd    False\n",
       "unit             False\n",
       "from_date        False\n",
       "to_date          False\n",
       "dtype: bool"
      ]
     },
     "execution_count": 5,
     "metadata": {},
     "output_type": "execute_result"
    }
   ],
   "source": [
    "df.isna().any()"
   ]
  },
  {
   "cell_type": "code",
   "execution_count": 33,
   "metadata": {
    "scrolled": false
   },
   "outputs": [
    {
     "name": "stdout",
     "output_type": "stream",
     "text": [
      "<class 'pandas.core.frame.DataFrame'>\n",
      "RangeIndex: 63 entries, 0 to 62\n",
      "Data columns (total 6 columns):\n",
      " #   Column         Non-Null Count  Dtype  \n",
      "---  ------         --------------  -----  \n",
      " 0   sector_name    63 non-null     object \n",
      " 1   amount_in_rs   63 non-null     float64\n",
      " 2   amount_in_usd  63 non-null     float64\n",
      " 3   unit           63 non-null     object \n",
      " 4   from_date      63 non-null     object \n",
      " 5   to_date        63 non-null     object \n",
      "dtypes: float64(2), object(4)\n",
      "memory usage: 3.1+ KB\n"
     ]
    }
   ],
   "source": [
    "df.info()"
   ]
  },
  {
   "cell_type": "code",
   "execution_count": 7,
   "metadata": {
    "scrolled": true
   },
   "outputs": [
    {
     "data": {
      "text/html": [
       "<div>\n",
       "<style scoped>\n",
       "    .dataframe tbody tr th:only-of-type {\n",
       "        vertical-align: middle;\n",
       "    }\n",
       "\n",
       "    .dataframe tbody tr th {\n",
       "        vertical-align: top;\n",
       "    }\n",
       "\n",
       "    .dataframe thead th {\n",
       "        text-align: right;\n",
       "    }\n",
       "</style>\n",
       "<table border=\"1\" class=\"dataframe\">\n",
       "  <thead>\n",
       "    <tr style=\"text-align: right;\">\n",
       "      <th></th>\n",
       "      <th>amount_in_rs</th>\n",
       "      <th>amount_in_usd</th>\n",
       "    </tr>\n",
       "  </thead>\n",
       "  <tbody>\n",
       "    <tr>\n",
       "      <th>count</th>\n",
       "      <td>6.300000e+01</td>\n",
       "      <td>63.000000</td>\n",
       "    </tr>\n",
       "    <tr>\n",
       "      <th>mean</th>\n",
       "      <td>5.244126e+05</td>\n",
       "      <td>8685.713016</td>\n",
       "    </tr>\n",
       "    <tr>\n",
       "      <th>std</th>\n",
       "      <td>9.819541e+05</td>\n",
       "      <td>15922.388833</td>\n",
       "    </tr>\n",
       "    <tr>\n",
       "      <th>min</th>\n",
       "      <td>2.205000e+02</td>\n",
       "      <td>4.070000</td>\n",
       "    </tr>\n",
       "    <tr>\n",
       "      <th>25%</th>\n",
       "      <td>3.548252e+04</td>\n",
       "      <td>611.410000</td>\n",
       "    </tr>\n",
       "    <tr>\n",
       "      <th>50%</th>\n",
       "      <td>1.762638e+05</td>\n",
       "      <td>3001.520000</td>\n",
       "    </tr>\n",
       "    <tr>\n",
       "      <th>75%</th>\n",
       "      <td>6.091575e+05</td>\n",
       "      <td>9936.400000</td>\n",
       "    </tr>\n",
       "    <tr>\n",
       "      <th>max</th>\n",
       "      <td>5.232719e+06</td>\n",
       "      <td>88956.020000</td>\n",
       "    </tr>\n",
       "  </tbody>\n",
       "</table>\n",
       "</div>"
      ],
      "text/plain": [
       "       amount_in_rs  amount_in_usd\n",
       "count  6.300000e+01      63.000000\n",
       "mean   5.244126e+05    8685.713016\n",
       "std    9.819541e+05   15922.388833\n",
       "min    2.205000e+02       4.070000\n",
       "25%    3.548252e+04     611.410000\n",
       "50%    1.762638e+05    3001.520000\n",
       "75%    6.091575e+05    9936.400000\n",
       "max    5.232719e+06   88956.020000"
      ]
     },
     "execution_count": 7,
     "metadata": {},
     "output_type": "execute_result"
    }
   ],
   "source": [
    "df.describe()"
   ]
  },
  {
   "cell_type": "code",
   "execution_count": null,
   "metadata": {},
   "outputs": [],
   "source": []
  }
 ],
 "metadata": {
  "kernelspec": {
   "display_name": "Python 3",
   "language": "python",
   "name": "python3"
  },
  "language_info": {
   "codemirror_mode": {
    "name": "ipython",
    "version": 3
   },
   "file_extension": ".py",
   "mimetype": "text/x-python",
   "name": "python",
   "nbconvert_exporter": "python",
   "pygments_lexer": "ipython3",
   "version": "3.8.5"
  }
 },
 "nbformat": 4,
 "nbformat_minor": 4
}
